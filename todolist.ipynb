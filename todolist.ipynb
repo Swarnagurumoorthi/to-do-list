{
 "cells": [
  {
   "cell_type": "code",
   "execution_count": 2,
   "metadata": {},
   "outputs": [
    {
     "ename": "",
     "evalue": "",
     "output_type": "error",
     "traceback": [
      "\u001b[1;31mThe Kernel crashed while executing code in the current cell or a previous cell. \n",
      "\u001b[1;31mPlease review the code in the cell(s) to identify a possible cause of the failure. \n",
      "\u001b[1;31mClick <a href='https://aka.ms/vscodeJupyterKernelCrash'>here</a> for more info. \n",
      "\u001b[1;31mView Jupyter <a href='command:jupyter.viewOutput'>log</a> for further details."
     ]
    }
   ],
   "source": [
    "import tkinter as tk\n",
    "\n",
    "def add_task():\n",
    "    task = task_entry.get()\n",
    "    if task:\n",
    "        task_listbox.insert(tk.END, task)\n",
    "        task_entry.delete(0, tk.END)\n",
    "\n",
    "def remove_task():\n",
    "    selected_task_index = task_listbox.curselection()\n",
    "    if selected_task_index:\n",
    "        task_listbox.delete(selected_task_index)\n",
    "\n",
    "# Create the main window\n",
    "root = tk.Tk()\n",
    "root.title(\"To-Do List\")\n",
    "root.geometry(\"400x650+400+100\")\n",
    "root.configure(bg=\"#c7f5f9\")  # Set background color to a light teal shade\n",
    "\n",
    "# Create a frame for buttons\n",
    "button_frame = tk.Frame(root, bg=\"#c7f5f9\")\n",
    "button_frame.pack(fill=tk.X)\n",
    "\n",
    "# Create a frame for listbox and entry\n",
    "list_frame = tk.Frame(root, bg=\"#c7f5f9\")\n",
    "list_frame.pack(fill=tk.BOTH, expand=True)\n",
    "\n",
    "# Create a listbox to display tasks\n",
    "task_listbox = tk.Listbox(list_frame, bd=0, highlightthickness=0, relief=\"flat\", font=(\"Arial\", 12), selectbackground=\"#a3e7f4\")\n",
    "task_listbox.pack(pady=10, padx=10, fill=tk.BOTH, expand=True)\n",
    "\n",
    "# Create an entry widget to add new tasks\n",
    "task_entry = tk.Entry(button_frame, font=(\"Arial\", 12))\n",
    "task_entry.pack(side=tk.LEFT, pady=5, padx=10, fill=tk.X, expand=True)\n",
    "\n",
    "# Create Add and Remove buttons\n",
    "add_button = tk.Button(button_frame, text=\"Add Task\", command=add_task, bg=\"#008080\", fg=\"white\", font=(\"Arial\", 12))\n",
    "remove_button = tk.Button(button_frame, text=\"Remove Task\", command=remove_task, bg=\"#00cccc\", fg=\"white\", font=(\"Arial\", 12))\n",
    "add_button.pack(side=tk.LEFT, pady=5, padx=5)\n",
    "remove_button.pack(side=tk.LEFT, pady=5, padx=5)\n",
    "\n",
    "# Start the Tkinter main loop\n",
    "root.mainloop()"
   ]
  }
 ],
 "metadata": {
  "kernelspec": {
   "display_name": "Python 3",
   "language": "python",
   "name": "python3"
  },
  "language_info": {
   "codemirror_mode": {
    "name": "ipython",
    "version": 3
   },
   "file_extension": ".py",
   "mimetype": "text/x-python",
   "name": "python",
   "nbconvert_exporter": "python",
   "pygments_lexer": "ipython3",
   "version": "3.12.3"
  }
 },
 "nbformat": 4,
 "nbformat_minor": 5
}
